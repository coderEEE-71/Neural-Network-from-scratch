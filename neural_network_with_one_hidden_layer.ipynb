{
 "cells": [
  {
   "cell_type": "markdown",
   "metadata": {},
   "source": [
    "### <font color = \"darkblue\">Problem Statement</font>\n",
    "Create a neural network model with a single hidden layer consisting of four neurons for the purpose of predicting whether a patient is afflicted with Hepatitis C or not, using the provided HCV dataset."
   ]
  },
  {
   "cell_type": "markdown",
   "metadata": {},
   "source": [
    "# Load the dataset"
   ]
  },
  {
   "cell_type": "code",
   "execution_count": null,
   "metadata": {},
   "outputs": [],
   "source": [
    "import pandas as pd\n",
    "import numpy as np\n",
    "import matplotlib.pyplot as plt\n",
    "from sklearn.metrics import accuracy_score\n",
    "from sklearn.preprocessing import StandardScaler\n",
    "data = pd.read_csv(r\"HepatitisCdata.csv\")\n",
    "data"
   ]
  },
  {
   "cell_type": "markdown",
   "metadata": {},
   "source": [
    "# Preprocess the data for neural network training "
   ]
  },
  {
   "cell_type": "code",
   "execution_count": null,
   "metadata": {},
   "outputs": [],
   "source": [
    "data.drop('Unnamed: 0',axis=1,inplace=True)  \n",
    "\n",
    "data.replace(to_replace=['0=Blood Donor', '0s=suspect Blood Donor', '1=Hepatitis',\n",
    "       '2=Fibrosis', '3=Cirrhosis'],\n",
    "             value=[0,1,1,1,1],inplace=True) \n",
    "data.replace(to_replace=['m','f'],\n",
    "             value=[0,1],inplace=True)\n",
    "data['ALB'].fillna(data['ALB'].mean(), inplace=True)\n",
    "data['ALP'].fillna(data['ALP'].mean(), inplace=True)\n",
    "data['CHOL'].fillna(data['CHOL'].mean(), inplace=True)\n",
    "data['PROT'].fillna(data['PROT'].mean(), inplace=True)\n",
    "data['ALT'].fillna(data['ALT'].mean(), inplace=True)\n",
    "data.drop(['CREA','Sex'],axis=1,inplace=True) \n",
    "X_train=data.drop(columns='Category',axis=1)\n",
    "y_train3=data['Category'] \n",
    "ss=StandardScaler()\n",
    "y_train=np.array([y_train3])\n",
    "y_train=y_train.T"
   ]
  },
  {
   "cell_type": "markdown",
   "metadata": {},
   "source": [
    "# Define Training AND Test Data"
   ]
  },
  {
   "cell_type": "code",
   "execution_count": null,
   "metadata": {},
   "outputs": [],
   "source": [
    "X_train= ss.fit_transform(X_train)\n",
    "y_train1=data['Category'] \n",
    "y_train=np.array([y_train1])\n",
    "y_train=y_train.T\n",
    "print(y_train)"
   ]
  },
  {
   "cell_type": "markdown",
   "metadata": {},
   "source": [
    "# Define sigmoid function and it's dervative"
   ]
  },
  {
   "cell_type": "code",
   "execution_count": null,
   "metadata": {},
   "outputs": [],
   "source": [
    "def sigmoid(x):\n",
    "    return 1/(1+np.exp(-x))\n",
    "def sigmoid_derivative(x):\n",
    "    return x*(1-x)"
   ]
  },
  {
   "cell_type": "markdown",
   "metadata": {},
   "source": [
    "# Initialize weights and bias "
   ]
  },
  {
   "cell_type": "code",
   "execution_count": null,
   "metadata": {},
   "outputs": [],
   "source": [
    "input_layer_size = X_train.shape[1]\n",
    "output_layer_size = 1\n",
    "hidden_layer_size = 4\n",
    "m = len(y_train)\n",
    "np.random.seed(1)\n",
    "W1 = np.random.randn(input_layer_size, hidden_layer_size)*.01\n",
    "b1 = np.zeros((1, hidden_layer_size))\n",
    "W2 = np.random.randn(hidden_layer_size, output_layer_size)*.01\n",
    "b2 = np.zeros((1, output_layer_size))\n"
   ]
  },
  {
   "cell_type": "markdown",
   "metadata": {},
   "source": [
    "# Forward propagation and backward propagation"
   ]
  },
  {
   "cell_type": "code",
   "execution_count": null,
   "metadata": {},
   "outputs": [],
   "source": [
    "learning_rate=0.001\n",
    "number_of_iterations=1000000\n",
    "for i in range(number_of_iterations):\n",
    "   \n",
    "# Forward propagation\n",
    "    Z1 = np.dot(X_train, W1) + b1\n",
    "    A1 = sigmoid(Z1)\n",
    "    Z2 = np.dot(A1, W2) + b2\n",
    "    A2 = sigmoid(Z2)\n",
    "\n",
    "    # Compute the cost (cross-entropy loss)\n",
    "    cost = -np.mean(y_train * np.log(A2) + (1 - y_train) * np.log(1 - A2))\n",
    "\n",
    "    # Backpropagation\n",
    "    dZ2 = (A2 - y_train)\n",
    "    dW2 = (1/m)*np.dot(A1.T, dZ2)\n",
    "    db2 = (1/m)*np.sum(dZ2, axis=0, keepdims=True)\n",
    "    dZ1 = np.dot(dZ2, W2.T) * sigmoid_derivative(A1)\n",
    "    dW1 = (1/m)*np.dot(X_train.T, dZ1)\n",
    "    db1 = (1/m)*np.sum(dZ1, axis=0, keepdims=True)\n",
    "    # Update parameters\n",
    "    W1 -= learning_rate * dW1\n",
    "    b1 -= learning_rate * db1\n",
    "    W2 -= learning_rate * dW2\n",
    "    b2 -= learning_rate * db2"
   ]
  },
  {
   "cell_type": "markdown",
   "metadata": {},
   "source": [
    "# Predict the training data using the upadted weights and biases"
   ]
  },
  {
   "cell_type": "code",
   "execution_count": null,
   "metadata": {},
   "outputs": [],
   "source": [
    "def predict(X, W1, b1, W2, b2):\n",
    "    Z1 = np.dot(X, W1) + b1\n",
    "    A1 = sigmoid(Z1)\n",
    "    Z2 = np.dot(A1, W2) + b2\n",
    "    A2 = sigmoid(Z2)\n",
    "    predictions = (A2 > 0.5).astype(int)\n",
    "    return predictions\n",
    "\n",
    "# Make predictions on the training data\n",
    "train_predictions = predict(X_train, W1, b1, W2, b2)\n",
    "accuracy = np.mean(train_predictions == y_train)\n",
    "print(f\"Training Accuracy: {accuracy * 100:.2f}%\")"
   ]
  },
  {
   "cell_type": "markdown",
   "metadata": {},
   "source": [
    "# Comparing the  result with skicit learn's logistic regression model"
   ]
  },
  {
   "cell_type": "code",
   "execution_count": null,
   "metadata": {},
   "outputs": [],
   "source": [
    "from sklearn.linear_model import LogisticRegression\n",
    "\n",
    "lr = LogisticRegression(max_iter=1000000)\n",
    "lr.fit(X_train, y_train3)\n",
    "y_pred = lr.predict(X_train)\n",
    "print(f\"Test Accuracy: {accuracy_score(y_train3, y_pred)}\")"
   ]
  },
  {
   "cell_type": "markdown",
   "metadata": {},
   "source": [
    "Below is same one hidden layer neural network ,but two two activation functions for the output layer it has sigmoid function and for the hidden layer it has tanh function"
   ]
  },
  {
   "cell_type": "code",
   "execution_count": null,
   "metadata": {},
   "outputs": [],
   "source": [
    "y_train2=np.array([y_train3])\n",
    "n_x = 10 # size of input layer\n",
    "n_h = 4\n",
    "n_y = 1\n",
    "m = len(y_train2)\n",
    "np.random.seed(1)\n",
    "W1 = np.random.randn(n_h,n_x) * 0.01\n",
    "b1 = np.zeros((n_h,1))\n",
    "W2 = np.random.randn(n_y,n_h) * 0.01\n",
    "b2 = np.zeros((n_y,1))\n",
    "learning_rate=0.01\n",
    "number_of_iterations=1000000\n",
    "for i in range(number_of_iterations):\n",
    "\n",
    "    Z1 = np.dot(W1,X_train.T) + b1\n",
    "    A1 = sigmoid(Z1)\n",
    "    Z2 = np.dot(W2,A1) + b2\n",
    "    A2 = sigmoid(Z2)\n",
    "    dZ2 = A2 - y_train2\n",
    "    dW2 = (1/m) * np.dot(dZ2,A1.T)\n",
    "    db2 = (1/m) *(np.sum(dZ2,axis=1,keepdims=True))\n",
    "    dZ1 = np.dot(W2.T, dZ2) * (1 - np.power(A1, 2))\n",
    "\n",
    "    dW1 = (1/m) *(np.dot(dZ1,X_train))\n",
    "    db1 = (1/m) *(np.sum(dZ1, axis=1, keepdims=True))\n",
    "W1 = W1 - learning_rate * dW1\n",
    "b1 = b1 - learning_rate * db1\n",
    "W2 = W2 - learning_rate * dW2\n",
    "b2 = b2 - learning_rate * db2"
   ]
  },
  {
   "cell_type": "code",
   "execution_count": null,
   "metadata": {},
   "outputs": [],
   "source": [
    "def predict(X, W1, b1, W2, b2):\n",
    "    Z1 = np.dot(W1,X_train.T) + b1\n",
    "    A1 = sigmoid(Z1)\n",
    "    Z2 = np.dot(W2,A1) + b2\n",
    "    A2 = sigmoid(Z2)\n",
    "    predictions = (A2 > 0.5).astype(int)\n",
    "    return predictions\n",
    "\n",
    "# Make predictions on the training data\n",
    "train_predictions = predict(X_train, W1, b1, W2, b2)\n",
    "accuracy = np.mean(train_predictions == y_train)\n",
    "print(f\"Training Accuracy: {accuracy * 100:.2f}%\")"
   ]
  },
  {
   "cell_type": "code",
   "execution_count": null,
   "metadata": {},
   "outputs": [],
   "source": []
  }
 ],
 "metadata": {
  "kernelspec": {
   "display_name": "paper2",
   "language": "python",
   "name": "python3"
  },
  "language_info": {
   "codemirror_mode": {
    "name": "ipython",
    "version": 3
   },
   "file_extension": ".py",
   "mimetype": "text/x-python",
   "name": "python",
   "nbconvert_exporter": "python",
   "pygments_lexer": "ipython3",
   "version": "3.12.0"
  }
 },
 "nbformat": 4,
 "nbformat_minor": 2
}
