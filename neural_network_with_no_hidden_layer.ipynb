{
 "cells": [
  {
   "cell_type": "markdown",
   "metadata": {},
   "source": [
    "### <font color = \"darkblue\">Problem Statement</font>\n",
    "\n",
    "Training data\n",
    "\n",
    "<style type=\"text/css\">\n",
    ".tg  {border-collapse:collapse;border-spacing:0;}\n",
    ".tg td{border-color:black;border-style:solid;border-width:1px;font-family:Arial, sans-serif;font-size:14px;\n",
    "  overflow:hidden;padding:10px 5px;word-break:normal;}\n",
    ".tg th{border-color:black;border-style:solid;border-width:1px;font-family:Arial, sans-serif;font-size:14px;\n",
    "  font-weight:normal;overflow:hidden;padding:10px 5px;word-break:normal;}\n",
    ".tg .tg-c3ow{border-color:inherit;text-align:center;vertical-align:top}\n",
    "</style>\n",
    "<table class=\"tg\">\n",
    "<thead>\n",
    "  <tr>\n",
    "    <th class=\"tg-c3ow\" rowspan=\"2\"><br>Example   No</th>\n",
    "    <th class=\"tg-c3ow\" colspan=\"3\">Input</th>\n",
    "    <th class=\"tg-c3ow\" rowspan=\"2\"><br>Output</th>\n",
    "  </tr>\n",
    "  <tr>\n",
    "    <th class=\"tg-c3ow\">X1</th>\n",
    "    <th class=\"tg-c3ow\">X2</th>\n",
    "    <th class=\"tg-c3ow\">X3</th>\n",
    "  </tr>\n",
    "</thead>\n",
    "<tbody>\n",
    "  <tr>\n",
    "    <td class=\"tg-c3ow\">1</td>\n",
    "    <td class=\"tg-c3ow\">0</td>\n",
    "    <td class=\"tg-c3ow\">0</td>\n",
    "    <td class=\"tg-c3ow\">1</td>\n",
    "    <td class=\"tg-c3ow\">0</td>\n",
    "  </tr>\n",
    "  <tr>\n",
    "    <td class=\"tg-c3ow\">2</td>\n",
    "    <td class=\"tg-c3ow\">1</td>\n",
    "    <td class=\"tg-c3ow\">1</td>\n",
    "    <td class=\"tg-c3ow\">1</td>\n",
    "    <td class=\"tg-c3ow\">1</td>\n",
    "  </tr>\n",
    "  <tr>\n",
    "    <td class=\"tg-c3ow\">3</td>\n",
    "    <td class=\"tg-c3ow\">1</td>\n",
    "    <td class=\"tg-c3ow\">0</td>\n",
    "    <td class=\"tg-c3ow\">1</td>\n",
    "    <td class=\"tg-c3ow\">1</td>\n",
    "  </tr>\n",
    "  <tr>\n",
    "    <td class=\"tg-c3ow\">4</td>\n",
    "    <td class=\"tg-c3ow\">0</td>\n",
    "    <td class=\"tg-c3ow\">1</td>\n",
    "    <td class=\"tg-c3ow\">1</td>\n",
    "    <td class=\"tg-c3ow\">0</td>\n",
    "  </tr>\n",
    "</tbody>\n",
    "</table>\n",
    "Test data\n",
    "\n",
    "| example 5 | 1 | 1 | 0 | 1 |\n",
    "|:---------:|:-:|:-:|:-:|:-:|\n",
    "\n",
    "Create a basic neural network with only one layer (no hidden layers) using the data provided in the table above."
   ]
  },
  {
   "cell_type": "markdown",
   "metadata": {},
   "source": [
    "# Define Training AND Test Data\n",
    " "
   ]
  },
  {
   "cell_type": "code",
   "execution_count": 98,
   "metadata": {},
   "outputs": [],
   "source": [
    "import numpy as np\n",
    "training_inputs = np.array([[0, 0, 1],\n",
    "                            [1, 1, 1],\n",
    "                            [1, 0, 1],\n",
    "                            [0, 1, 1]])\n",
    "\n",
    "training_outputs = np.array([[0, 1, 1, 0]]).T      #not tarinng_oututs=np.array([0,1,1,1]).T bcz tarinng_oututs=np.array([0,1,1,1]) will not create a 2d array\n",
    "m=len(training_outputs) # m=number of training examples\n",
    "test_data=np.array([[1,1,0]])"
   ]
  },
  {
   "cell_type": "markdown",
   "metadata": {},
   "source": [
    "# Define sigmoid function and it's dervative"
   ]
  },
  {
   "cell_type": "code",
   "execution_count": 99,
   "metadata": {},
   "outputs": [],
   "source": [
    "def sigmoid(x):\n",
    "    return 1/(1+np.exp(-x))\n",
    "def sigmoid_derivative(x):\n",
    "    return x*(1-x)"
   ]
  },
  {
   "cell_type": "markdown",
   "metadata": {},
   "source": [
    "# Initialize weights and bias "
   ]
  },
  {
   "cell_type": "code",
   "execution_count": 100,
   "metadata": {},
   "outputs": [
    {
     "name": "stdout",
     "output_type": "stream",
     "text": [
      "[[4.17022005e-03]\n",
      " [7.20324493e-03]\n",
      " [1.14374817e-06]]\n",
      "[[0.30233257]]\n"
     ]
    }
   ],
   "source": [
    "input_layer_size=3 #snce three input variables X1,X2,X3\n",
    "output_layer_size=1\n",
    "np.random.seed(1)\n",
    "weights=np.random.random((input_layer_size,output_layer_size))*.01\n",
    "print(weights)\n",
    "biases= np.zeros((output_layer_size,1))\n",
    "print(bias)"
   ]
  },
  {
   "cell_type": "markdown",
   "metadata": {},
   "source": [
    "# Forward propagation and backward propagation"
   ]
  },
  {
   "cell_type": "code",
   "execution_count": 101,
   "metadata": {},
   "outputs": [
    {
     "name": "stdout",
     "output_type": "stream",
     "text": [
      "Updated weights and bias after backpropagation:\n",
      "Weights:\n",
      "[[ 5.69988973]\n",
      " [-0.2409698 ]\n",
      " [-2.61620559]]\n",
      "Bias:\n",
      "[[0.30233257]]\n",
      "Final Outputs:\n",
      "[[0.0899805 ]\n",
      " [0.95871311]\n",
      " [0.96726465]\n",
      " [0.07210181]]\n"
     ]
    }
   ],
   "source": [
    "learning_rate=0.01\n",
    "number_of_iterations=100000\n",
    "m=len(training_outputs)\n",
    "#Forward propagation\n",
    "for i in range(number_of_iterations):\n",
    "    Z=np.dot(training_inputs,weights)\n",
    "    A=sigmoid(Z)\n",
    "\n",
    "#backpropagation \n",
    "    error=A-training_outputs\n",
    "    dZ=error*sigmoid_derivative(A)\n",
    "    dW=(1/m)*np.dot(training_inputs.T,dZ)\n",
    "    db=(1/m)*np.sum(dZ,axis=0, keepdims=True)\n",
    "\n",
    "#weight and bias updates\n",
    "    weights=weights-learning_rate*dW\n",
    "    biases=biases-learning_rate*db\n",
    "\n",
    "# Calculate the final outputs\n",
    "final_outputs = sigmoid(np.dot(training_inputs, weights) + bias)\n",
    "\n",
    "# Print the final weights, bias, and outputs\n",
    "print(\"Updated weights and bias after backpropagation:\")\n",
    "print(\"Weights:\")\n",
    "print(weights)\n",
    "print(\"Bias:\")\n",
    "print(bias)\n",
    "print(\"Final Outputs:\")\n",
    "print(final_outputs)"
   ]
  },
  {
   "cell_type": "markdown",
   "metadata": {},
   "source": [
    "# For test data"
   ]
  },
  {
   "cell_type": "code",
   "execution_count": 102,
   "metadata": {},
   "outputs": [
    {
     "name": "stdout",
     "output_type": "stream",
     "text": [
      "[[0.9957599]]\n"
     ]
    }
   ],
   "source": [
    "Z=np.dot(test_data,weights)\n",
    "test_output=sigmoid(Z)\n",
    "print(test_output)"
   ]
  }
 ],
 "metadata": {
  "kernelspec": {
   "display_name": "paper2",
   "language": "python",
   "name": "python3"
  },
  "language_info": {
   "codemirror_mode": {
    "name": "ipython",
    "version": 3
   },
   "file_extension": ".py",
   "mimetype": "text/x-python",
   "name": "python",
   "nbconvert_exporter": "python",
   "pygments_lexer": "ipython3",
   "version": "3.11.4"
  }
 },
 "nbformat": 4,
 "nbformat_minor": 2
}
